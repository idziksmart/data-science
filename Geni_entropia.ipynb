{
  "nbformat": 4,
  "nbformat_minor": 0,
  "metadata": {
    "colab": {
      "provenance": [],
      "toc_visible": true,
      "authorship_tag": "ABX9TyNmLmb+YQ9uBBvskMJeU+iC",
      "include_colab_link": true
    },
    "kernelspec": {
      "name": "python3",
      "display_name": "Python 3"
    },
    "language_info": {
      "name": "python"
    }
  },
  "cells": [
    {
      "cell_type": "markdown",
      "metadata": {
        "id": "view-in-github",
        "colab_type": "text"
      },
      "source": [
        "<a href=\"https://colab.research.google.com/github/idziksmart/data-science/blob/master/Geni_entropia.ipynb\" target=\"_parent\"><img src=\"https://colab.research.google.com/assets/colab-badge.svg\" alt=\"Open In Colab\"/></a>"
      ]
    },
    {
      "cell_type": "code",
      "execution_count": null,
      "metadata": {
        "id": "TSUJ5JBENjAu"
      },
      "outputs": [],
      "source": [
        "import numpy as np\n",
        "import pandas as pd\n",
        "import matplotlib.pyplot as plt\n",
        "import seaborn as sns\n",
        "from IPython.display import Image\n",
        "\n",
        "sns.set(font_scale=1.3)\n",
        "np.random.seed(42)\n"
      ]
    },
    {
      "cell_type": "code",
      "source": [
        "# base = 2 to podstawa logarytmu dla entropii\n",
        "from scipy.stats import entropy\n",
        "\n",
        "print(entropy([0.5, 0.5], base=2))\n",
        "print(entropy([0.8, 0.2], base=2))\n",
        "print(entropy([0.95, 0.05], base=2))"
      ],
      "metadata": {
        "colab": {
          "base_uri": "https://localhost:8080/"
        },
        "id": "tneViogU6dUD",
        "outputId": "b83842e5-ce16-45c3-ee9e-f4273e2b4677"
      },
      "execution_count": null,
      "outputs": [
        {
          "output_type": "stream",
          "name": "stdout",
          "text": [
            "1.0\n",
            "0.7219280948873623\n",
            "0.2863969571159562\n"
          ]
        }
      ]
    },
    {
      "cell_type": "markdown",
      "source": [
        "Zysk informacyjny\n",
        "to IG = entropia przed podzialem - entropia po podziale\n",
        "tam gdzie jest wiekszy to wedlug tego nalezy podzielic nasze dane"
      ],
      "metadata": {
        "id": "52jRzJIg7WgA"
      }
    }
  ]
}